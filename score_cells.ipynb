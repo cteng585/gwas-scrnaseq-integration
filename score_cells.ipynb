{
 "cells": [
  {
   "cell_type": "markdown",
   "source": [
    "# score_cells\n",
    "\n",
    "This notebook is intended to handle scoring cells based on their expression of trait-associated genes. Highly-scored cells are considered disease relevant, whereas lowly-scored cells are considered disease irrelevant."
   ],
   "metadata": {
    "collapsed": false,
    "pycharm": {
     "name": "#%% md\n"
    }
   }
  },
  {
   "cell_type": "markdown",
   "source": [
    "## Load required packages"
   ],
   "metadata": {
    "collapsed": false,
    "pycharm": {
     "name": "#%% md\n"
    }
   }
  },
  {
   "cell_type": "code",
   "execution_count": 1,
   "outputs": [],
   "source": [
    "import scdrs\n",
    "\n",
    "from src.utils import make_work_dir, setup\n",
    "from src.score_cells.utils import load_gene_name_map, munge_magma"
   ],
   "metadata": {
    "collapsed": false,
    "pycharm": {
     "name": "#%%\n"
    }
   }
  },
  {
   "cell_type": "markdown",
   "source": [
    "## Setup the output and working directories"
   ],
   "metadata": {
    "collapsed": false,
    "pycharm": {
     "name": "#%% md\n"
    }
   }
  },
  {
   "cell_type": "code",
   "execution_count": 2,
   "outputs": [
    {
     "name": "stdout",
     "output_type": "stream",
     "text": [
      "directory score_cells/output already exists\n",
      "directory score_cells/tmp already exists\n",
      "making directory tmp/dd8e26ce30eeeb54ecda009c25c9c027\n"
     ]
    }
   ],
   "source": [
    "output_dir, tmp_dir = setup(\"src/score_cells/output\")\n",
    "work_dir = make_work_dir(tmp_dir)"
   ],
   "metadata": {
    "collapsed": false,
    "pycharm": {
     "name": "#%%\n"
    }
   }
  },
  {
   "cell_type": "markdown",
   "source": [
    "## Munge the output from MAGMA\n",
    "\n",
    "scDRS expects a gene set to be used for each trait of interest. Since Rheumatoid Arthritis (RA) is the trait of interest, a gene set should be constructed for RA using the following format:\n",
    "\n",
    "```\n",
    "TRAIT   GENESET\n",
    "RA      [COMMA-DELIMITED LIST OF GENES IN THE RA GENE SET]\n",
    "```\n",
    "\n",
    "The RA gene set is constructed by taking the top **n** genes which MAGMA associates with RA using the `gwas_processing` module."
   ],
   "metadata": {
    "collapsed": false,
    "pycharm": {
     "name": "#%% md\n"
    }
   }
  },
  {
   "cell_type": "markdown",
   "source": [
    "### Change gene IDs to HGNC gene names"
   ],
   "metadata": {
    "collapsed": false,
    "pycharm": {
     "name": "#%% md\n"
    }
   }
  },
  {
   "cell_type": "code",
   "execution_count": 3,
   "outputs": [],
   "source": [
    "gene_ids_to_names = \"data/gene_locations/NCBI37.3.gene.loc\"\n",
    "gene_names_header = False\n",
    "id_column = 0\n",
    "name_column = 5\n",
    "\n",
    "\n",
    "gene_name_map = load_gene_name_map(\n",
    "    gene_name_map=gene_ids_to_names,\n",
    "    header=gene_names_header,\n",
    "    id_column=id_column,\n",
    "    name_column=name_column,\n",
    ")"
   ],
   "metadata": {
    "collapsed": false,
    "pycharm": {
     "name": "#%%\n"
    }
   }
  },
  {
   "cell_type": "markdown",
   "source": [
    "### Munge the MAGMA results into the previously described gene set structure for scDRS"
   ],
   "metadata": {
    "collapsed": false,
    "pycharm": {
     "name": "#%% md\n"
    }
   }
  },
  {
   "cell_type": "code",
   "execution_count": 4,
   "outputs": [],
   "source": [
    "ra_associated_genes = \"src/gwas_processing/output/gene_analysis.genes.out\"\n",
    "trait = \"RA\"\n",
    "num_genes = 1000\n",
    "delimiter = \"\\s+\"\n",
    "ra_associated_genes_header = True\n",
    "\n",
    "\n",
    "ra_gene_set = munge_magma(\n",
    "    ra_associated_genes,\n",
    "    trait=trait,\n",
    "    num_genes=num_genes,\n",
    "    work_dir=work_dir,\n",
    "    delimiter=delimiter,\n",
    "    header=ra_associated_genes_header,\n",
    "    gene_name_map=gene_name_map,\n",
    ")"
   ],
   "metadata": {
    "collapsed": false,
    "pycharm": {
     "name": "#%%\n"
    }
   }
  },
  {
   "cell_type": "markdown",
   "source": [
    "# Load the Seurat data into an AnnData object\n",
    "\n",
    "Since the AnnData object was created from a Seurat object, the behavior of the AnnData object is analogous to the behavior of a Seurat object in R. Different features of the single-cell data set are accessed using specific attributes (e.g. the `nCount_RNA` attribute) of the AnnData object."
   ],
   "metadata": {
    "collapsed": false,
    "pycharm": {
     "name": "#%% md\n"
    }
   }
  },
  {
   "cell_type": "code",
   "execution_count": 5,
   "outputs": [],
   "source": [
    "h5ad_file = \"src/seurat/output/ra_sc_rna_seq.h5ad\"\n",
    "\n",
    "ann_data = scdrs.util.load_h5ad(h5ad_file, flag_filter_data=False, flag_raw_count=False)"
   ],
   "metadata": {
    "collapsed": false,
    "pycharm": {
     "name": "#%%\n"
    }
   }
  },
  {
   "cell_type": "markdown",
   "source": [
    "# Load the munged MAGMA output"
   ],
   "metadata": {
    "collapsed": false,
    "pycharm": {
     "name": "#%% md\n"
    }
   }
  },
  {
   "cell_type": "code",
   "execution_count": 6,
   "outputs": [],
   "source": [
    "df_gs = scdrs.util.load_gs(\n",
    "    ra_gene_set,\n",
    "    src_species=\"human\",\n",
    "    dst_species=\"human\",\n",
    "    to_intersect=ann_data.var_names,\n",
    ")"
   ],
   "metadata": {
    "collapsed": false,
    "pycharm": {
     "name": "#%%\n"
    }
   }
  },
  {
   "cell_type": "markdown",
   "source": [
    "# Compute the cell-wise scores\n",
    "\n",
    "Since no covariates were provided in the 10x single-cell data set, there are no covariates to regress out. However, the `scdrs.preprocess` step in the standard analysis workflow still needs to be run to create a `SCDRS_PARAM` attribute in the AnnData object"
   ],
   "metadata": {
    "collapsed": false,
    "pycharm": {
     "name": "#%% md\n"
    }
   }
  },
  {
   "cell_type": "code",
   "execution_count": 7,
   "outputs": [],
   "source": [
    "scdrs.preprocess(ann_data)\n",
    "\n",
    "gene_list = df_gs[\"RA\"][0]\n",
    "gene_weights = df_gs[\"RA\"][1]"
   ],
   "metadata": {
    "collapsed": false,
    "pycharm": {
     "name": "#%%\n"
    }
   }
  },
  {
   "cell_type": "code",
   "execution_count": 8,
   "outputs": [
    {
     "name": "stderr",
     "output_type": "stream",
     "text": [
      "Computing control scores: 100%|██████████| 20/20 [00:01<00:00, 16.53it/s]\n",
      "Computing control scores: 100%|██████████| 50/50 [00:02<00:00, 18.13it/s]\n",
      "Computing control scores: 100%|██████████| 100/100 [00:05<00:00, 18.39it/s]\n",
      "Computing control scores: 100%|██████████| 500/500 [00:27<00:00, 18.13it/s]\n",
      "Computing control scores: 100%|██████████| 1000/1000 [00:55<00:00, 17.93it/s]\n"
     ]
    }
   ],
   "source": [
    "# n_control are the number of control groups that scDRS will generate using a Monte Carlo sampling method\n",
    "# use a range of scores and compare\n",
    "n_controls = [20, 50, 100, 500, 1000]\n",
    "results = dict()\n",
    "\n",
    "for num_controls in n_controls:\n",
    "    cell_scores = scdrs.score_cell(\n",
    "        ann_data,\n",
    "        gene_list,\n",
    "        gene_weight=gene_weights,\n",
    "        n_ctrl=num_controls\n",
    "    )\n",
    "\n",
    "    results[num_controls] = cell_scores"
   ],
   "metadata": {
    "collapsed": false,
    "pycharm": {
     "name": "#%%\n"
    }
   }
  },
  {
   "cell_type": "markdown",
   "source": [
    "## Write the scored cell tables to file"
   ],
   "metadata": {
    "collapsed": false,
    "pycharm": {
     "name": "#%% md\n"
    }
   }
  },
  {
   "cell_type": "code",
   "execution_count": 9,
   "outputs": [],
   "source": [
    "for num_controls in results.keys():\n",
    "    with open(f\"{output_dir}/cell_scores_{num_controls}.tsv\", \"w\") as outfile:\n",
    "        results[num_controls].reset_index().rename(columns={\"index\": \"cell_name\"}).to_csv(outfile, sep=\"\\t\", index=False)"
   ],
   "metadata": {
    "collapsed": false,
    "pycharm": {
     "name": "#%%\n"
    }
   }
  }
 ],
 "metadata": {
  "kernelspec": {
   "display_name": "Python 3",
   "language": "python",
   "name": "python3"
  },
  "language_info": {
   "codemirror_mode": {
    "name": "ipython",
    "version": 2
   },
   "file_extension": ".py",
   "mimetype": "text/x-python",
   "name": "python",
   "nbconvert_exporter": "python",
   "pygments_lexer": "ipython2",
   "version": "2.7.6"
  }
 },
 "nbformat": 4,
 "nbformat_minor": 0
}