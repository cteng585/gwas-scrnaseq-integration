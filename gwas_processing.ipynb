{
 "cells": [
  {
   "cell_type": "markdown",
   "source": [
    "# gwas_processing workflow\n",
    "\n",
    "This notebook is intended to handle processing GWAS SNP data to be used in scDRS analysis.\n",
    "\n",
    "The three distinct steps in this workflow are:\n",
    "1. Munging GWAS results into something that MAGMA can handle\n",
    "2. Conducting SNP-gene annotation mapping SNPs in the GWAS data to genes in a gene location file\n",
    "3. Conducting gene analysis, computing gene p-values in association with the trait of interest being studied in the GWAS"
   ],
   "metadata": {
    "collapsed": false,
    "pycharm": {
     "name": "#%% md\n"
    }
   }
  },
  {
   "cell_type": "markdown",
   "source": [
    "## Load required packages"
   ],
   "metadata": {
    "collapsed": false,
    "pycharm": {
     "name": "#%% md\n"
    }
   }
  },
  {
   "cell_type": "code",
   "execution_count": 1,
   "outputs": [],
   "source": [
    "from pathlib import Path\n",
    "\n",
    "from src.utils import make_work_dir, move_output, setup\n",
    "from src.gwas_processing.commands import annotate_variants, gene_analysis\n",
    "from src.gwas_processing.utils import munge_gwas"
   ],
   "metadata": {
    "collapsed": false,
    "pycharm": {
     "name": "#%%\n"
    }
   }
  },
  {
   "cell_type": "markdown",
   "source": [
    "## Setup the working environment\n",
    "\n",
    "The `work_dir` directory will contain any intermediate files that are generated as a part of this process. The `output_dir` directory should contain any final outputs."
   ],
   "metadata": {
    "collapsed": false,
    "pycharm": {
     "name": "#%% md\n"
    }
   }
  },
  {
   "cell_type": "code",
   "execution_count": 2,
   "outputs": [
    {
     "name": "stdout",
     "output_type": "stream",
     "text": [
      "directory gwas_processing/output already exists\n",
      "directory gwas_processing/tmp already exists\n",
      "making directory tmp/d74e4eac3d3cb0d8de6253272b4c93fb\n"
     ]
    }
   ],
   "source": [
    "output_dir, tmp_dir = setup(\"src/gwas_processing/output\")\n",
    "work_dir = make_work_dir(tmp_dir)"
   ],
   "metadata": {
    "collapsed": false,
    "pycharm": {
     "name": "#%%\n"
    }
   }
  },
  {
   "cell_type": "markdown",
   "source": [
    "## Munge the GWAS results into a format that MAGMA can annotate and analyze\n",
    "\n",
    "MAGMA-compatible criteria are:\n",
    "\n",
    "- Tab-delimited\n",
    "- No p-values less than or equal to 1e-308\n",
    "- The SNP ID, chromosome, and base-pair location columns to be the first three columns\n",
    "\n",
    "Additionally, variants with missing SNP IDs need to be handled. For this workflow, we fill missing SNP IDs with a value with format `[CHR]_[BP]_[REF ALLELE]_[EFFECT ALLELE]`"
   ],
   "metadata": {
    "collapsed": false,
    "pycharm": {
     "name": "#%% md\n"
    }
   }
  },
  {
   "cell_type": "code",
   "execution_count": 3,
   "outputs": [],
   "source": [
    "gwas_path = Path(\"data/GCST90132222_buildGRCh37.tsv\")\n",
    "\n",
    "gwas = munge_gwas(gwas_path, variant_id=\"variant_id\", pval=\"p_value\")\n",
    "\n",
    "munged_gwas = f\"{work_dir}/munged_gwas.tsv\"\n",
    "\n",
    "# MAGMA annotate expects that the output is whitespace delimited\n",
    "gwas.to_csv(munged_gwas, index=False, sep = \"\\t\")"
   ],
   "metadata": {
    "collapsed": false,
    "pycharm": {
     "name": "#%%\n"
    }
   }
  },
  {
   "cell_type": "markdown",
   "source": [
    "## Map SNPs to genes\n",
    "\n",
    "The mapping is based on genomic location, assigning an SNP to a gene if the SNP’s location falls\n",
    "inside the region provided for each gene; typically this region is defined by the transcription start and stop sites of that gene.\n",
    "\n",
    "Alternatively, an annotation window can be provided using a tuple of integers:\n",
    "- The first element of the tuple defines the number of kilo-bases upstream of the transcription start site\n",
    "- The second element of the tuple defines the number of kilo-bases downstream of the transcription start site\n",
    "\n",
    "Together, the upstream/downstream tuple increases the region in which SNPs are mapped to a particular gene.\n",
    "\n",
    "The gene location file used here can be found [here](https://ctg.cncr.nl/software/magma)."
   ],
   "metadata": {
    "collapsed": false,
    "pycharm": {
     "name": "#%% md\n"
    }
   }
  },
  {
   "cell_type": "code",
   "execution_count": 4,
   "outputs": [],
   "source": [
    "annotation_output, annotation_log = annotate_variants(\n",
    "    gene_loc=\"data/gene_locations/NCBI37.3.gene.loc\",\n",
    "    snp_loc=munged_gwas,\n",
    "    output_prefix=f\"{work_dir}/annotated_variants\",\n",
    "    annotation_window=(100, 20),\n",
    ")"
   ],
   "metadata": {
    "collapsed": false,
    "pycharm": {
     "name": "#%%\n"
    }
   }
  },
  {
   "cell_type": "markdown",
   "source": [
    "## Conduct SNP-wise gene analysis using MAGMA"
   ],
   "metadata": {
    "collapsed": false,
    "pycharm": {
     "name": "#%% md\n"
    }
   }
  },
  {
   "cell_type": "code",
   "execution_count": 35,
   "outputs": [],
   "source": [
    "reference_output = f\"src/make_reference/output/merge\"\n",
    "\n",
    "gene_analysis_out, gene_analysis_raw, gene_analysis_log, gene_analysis_supplemental_log = gene_analysis(\n",
    "    bfile=reference_output,\n",
    "    gene_annot=str(annotation_output),\n",
    "    gwas=munged_gwas,\n",
    "    variant_id=\"variant_id\",\n",
    "    pval=\"p_value\",\n",
    "    n=276020,\n",
    "    output_prefix=f\"{work_dir}/gene_analysis\",\n",
    ")"
   ],
   "metadata": {
    "collapsed": false,
    "pycharm": {
     "name": "#%%\n"
    }
   }
  },
  {
   "cell_type": "code",
   "execution_count": null,
   "outputs": [],
   "source": [
    "move_output(output_dir, annotation_output, gene_analysis_out)"
   ],
   "metadata": {
    "collapsed": false,
    "pycharm": {
     "name": "#%%\n"
    }
   }
  }
 ],
 "metadata": {
  "kernelspec": {
   "display_name": "Python 3",
   "language": "python",
   "name": "python3"
  },
  "language_info": {
   "codemirror_mode": {
    "name": "ipython",
    "version": 2
   },
   "file_extension": ".py",
   "mimetype": "text/x-python",
   "name": "python",
   "nbconvert_exporter": "python",
   "pygments_lexer": "ipython2",
   "version": "2.7.6"
  }
 },
 "nbformat": 4,
 "nbformat_minor": 0
}