{
 "cells": [
  {
   "cell_type": "markdown",
   "source": [
    "# make_reference workflow\n",
    "\n",
    "This notebook is intended to handle the case where the GWAS data to be integrated with single-cell RNA-seq data is of mixed ancestry. Instead of using an off-the-shelf 1000 Genomes data set, use PLINK to merge them into a single reference data set to estimate LD with."
   ],
   "metadata": {
    "collapsed": false,
    "pycharm": {
     "name": "#%% md\n"
    }
   }
  },
  {
   "cell_type": "markdown",
   "source": [
    "## Load required packages"
   ],
   "metadata": {
    "collapsed": false,
    "pycharm": {
     "name": "#%% md\n"
    }
   }
  },
  {
   "cell_type": "code",
   "execution_count": 1,
   "outputs": [],
   "source": [
    "from pathlib import Path\n",
    "\n",
    "from src.utils import make_work_dir, move_output, setup\n",
    "import src.make_reference.commands as commands\n",
    "from src.make_reference.classes import Ancestry\n",
    "from src.make_reference.utils import use_bfiles"
   ],
   "metadata": {
    "collapsed": false,
    "pycharm": {
     "name": "#%%\n"
    }
   }
  },
  {
   "cell_type": "markdown",
   "source": [
    "## Setup the working environment\n",
    "\n",
    "The `work_dir` directory will contain any intermediate files that are generated as a part of this process. The `output_dir` directory should contain any final outputs."
   ],
   "metadata": {
    "collapsed": false,
    "pycharm": {
     "name": "#%% md\n"
    }
   }
  },
  {
   "cell_type": "code",
   "execution_count": 2,
   "outputs": [
    {
     "name": "stdout",
     "output_type": "stream",
     "text": [
      "making directory make_reference/output\n",
      "making directory make_reference/tmp\n",
      "making directory tmp/6e368aee1e87b6848cb1aec10c990170\n"
     ]
    }
   ],
   "source": [
    "output_dir, tmp_dir = setup(\"src/make_reference/output\")\n",
    "work_dir = make_work_dir(tmp_dir)"
   ],
   "metadata": {
    "collapsed": false,
    "pycharm": {
     "name": "#%%\n"
    }
   }
  },
  {
   "cell_type": "markdown",
   "source": [
    "## Find available PLINK binary file sets to merge\n",
    "\n",
    "**bfile_dir** - defines the directory that contains the PLINK binary file sets\n",
    "**bfile_sets** - the PLINK binary file sets found in **bfile_dir** that appear to correspond to the defined ancestries"
   ],
   "metadata": {
    "collapsed": false,
    "pycharm": {
     "name": "#%% md\n"
    }
   }
  },
  {
   "cell_type": "code",
   "execution_count": 3,
   "outputs": [
    {
     "name": "stdout",
     "output_type": "stream",
     "text": [
      "Available bfile sets that match ancestry: \n",
      "bin/1k_genomes/eur/eur_cm_filled\n",
      "bin/1k_genomes/eur/g1000_eur\n",
      "bin/1k_genomes/eas/g1000_eas\n",
      "bin/1k_genomes/merged_bfiles/merged_eur_eas_cm_filled\n"
     ]
    }
   ],
   "source": [
    "bfile_dir = Path(\"bin/1k_genomes\")\n",
    "bfile_sets = use_bfiles(bfile_dir, Ancestry.EUROPEAN, Ancestry.EAST_ASIAN)"
   ],
   "metadata": {
    "collapsed": false,
    "pycharm": {
     "name": "#%%\n"
    }
   }
  },
  {
   "cell_type": "markdown",
   "source": [
    "## Merge the PLINK file sets\n",
    "\n",
    "The tuple (**merged_bed**, **merged_bim**, **merged_fam**) are pathlib.Path objects pointing to the merged file set\n",
    "\n",
    "Since multiple PLINK file sets could correspond to a given ancestry, **keep** defines the string patterns that should be used from the **bfile_sets** when merging"
   ],
   "metadata": {
    "collapsed": false,
    "pycharm": {
     "name": "#%% md\n"
    }
   }
  },
  {
   "cell_type": "code",
   "execution_count": 4,
   "outputs": [
    {
     "name": "stdout",
     "output_type": "stream",
     "text": [
      "Attempting to merge bfile sets ['bin/1k_genomes/eur/g1000_eur', 'bin/1k_genomes/eas/g1000_eas']\n",
      "Failed to merge bfile sets ['bin/1k_genomes/eur/g1000_eur', 'bin/1k_genomes/eas/g1000_eas']. Attempting to prune problem variants before trying again\n",
      "Pruning problem variants from bin/1k_genomes/eur/g1000_eur\n",
      "Pruning problem variants from bin/1k_genomes/eas/g1000_eas\n",
      "Retrying bfile set merge...\n",
      "...success\n",
      "Moving output src/make_reference/tmp/6e368aee1e87b6848cb1aec10c990170/merge.bed to from src/make_reference/tmp/6e368aee1e87b6848cb1aec10c990170 to src/make_reference/output\n",
      "Moving output src/make_reference/tmp/6e368aee1e87b6848cb1aec10c990170/merge.bim to from src/make_reference/tmp/6e368aee1e87b6848cb1aec10c990170 to src/make_reference/output\n",
      "Moving output src/make_reference/tmp/6e368aee1e87b6848cb1aec10c990170/merge.fam to from src/make_reference/tmp/6e368aee1e87b6848cb1aec10c990170 to src/make_reference/output\n"
     ]
    }
   ],
   "source": [
    "merged_bed, merged_bim, merged_fam = commands.merge_bfiles(bfile_sets, work_dir, keep=[\"g1000_eur\", \"g1000_eas\"])\n",
    "\n",
    "move_output(output_dir, merged_bed, merged_bim, merged_fam)\n",
    "print(f\"Moving output {merged_bed} to from {work_dir} to {output_dir}\")\n",
    "print(f\"Moving output {merged_bim} to from {work_dir} to {output_dir}\")\n",
    "print(f\"Moving output {merged_fam} to from {work_dir} to {output_dir}\")"
   ],
   "metadata": {
    "collapsed": false,
    "pycharm": {
     "name": "#%%\n"
    }
   }
  },
  {
   "cell_type": "code",
   "execution_count": null,
   "outputs": [],
   "source": [],
   "metadata": {
    "collapsed": false,
    "pycharm": {
     "name": "#%%\n"
    }
   }
  }
 ],
 "metadata": {
  "kernelspec": {
   "display_name": "Python 3",
   "language": "python",
   "name": "python3"
  },
  "language_info": {
   "codemirror_mode": {
    "name": "ipython",
    "version": 2
   },
   "file_extension": ".py",
   "mimetype": "text/x-python",
   "name": "python",
   "nbconvert_exporter": "python",
   "pygments_lexer": "ipython2",
   "version": "2.7.6"
  }
 },
 "nbformat": 4,
 "nbformat_minor": 0
}