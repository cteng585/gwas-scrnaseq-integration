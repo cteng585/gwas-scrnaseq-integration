{
 "cells": [
  {
   "cell_type": "code",
   "execution_count": 1,
   "outputs": [],
   "source": [
    "%load_ext autoreload\n",
    "%autoreload 2"
   ],
   "metadata": {
    "collapsed": false,
    "pycharm": {
     "name": "#%%\n"
    }
   }
  },
  {
   "cell_type": "code",
   "execution_count": 4,
   "outputs": [
    {
     "name": "stdout",
     "output_type": "stream",
     "text": [
      "directory /Users/christopherteng/github_repos/capstone_project/src/make_reference/output already exists\n",
      "directory /Users/christopherteng/github_repos/capstone_project/src/make_reference/tmp already exists\n",
      "making directory /Users/christopherteng/github_repos/capstone_project/src/make_reference/tmp/57868fbeb2cb5e9c9a353cfabf0f28e4\n"
     ]
    }
   ],
   "source": [
    "import logging\n",
    "from src.utils import make_work_dir, move_output, setup, setup_logging_and_tracing\n",
    "\n",
    "setup_logging_and_tracing(logging.INFO)\n",
    "\n",
    "logger = logging.getLogger(__name__)\n",
    "\n",
    "output_dir, tmp_dir = setup(\"output\")\n",
    "work_dir = make_work_dir(tmp_dir)\n",
    "logger.info(f\"Working dir: {work_dir}\")"
   ],
   "metadata": {
    "collapsed": false,
    "pycharm": {
     "name": "#%%\n"
    }
   }
  },
  {
   "cell_type": "code",
   "execution_count": 5,
   "outputs": [],
   "source": [
    "from pathlib import Path\n",
    "from classes import Ancestry\n",
    "from utils import use_bfiles\n",
    "\n",
    "bfile_dir = Path(\"/Users/christopherteng/github_repos/capstone_project/bin/1k_genomes\")\n",
    "bfile_sets = use_bfiles(bfile_dir, Ancestry.EUROPEAN, Ancestry.EAST_ASIAN)\n",
    "logger.info(f\"Available bfile sets that match ancestry: \")\n",
    "logger.info(\"\\n\".join(bfile_sets))"
   ],
   "metadata": {
    "collapsed": false,
    "pycharm": {
     "name": "#%%\n"
    }
   }
  },
  {
   "cell_type": "code",
   "execution_count": 8,
   "outputs": [
    {
     "name": "stderr",
     "output_type": "stream",
     "text": [
      "INFO 02:33:33 AM sh.command:info:579 <Command '/Users/christopherteng/plink_mac_20230116/plink --make-bed --bfile /Users/christopherteng/github_repos/capstone_project/bin/1k_genomes/eur/g1000_eur --merge-list /Users/christopherteng/github_repos/capstone_project/src/make_reference/tmp/57868fbeb2cb5e9c9a353cfabf0f28e4/merge_list.txt --out /Users/christopherteng/github_repos/capstone_project/src/make_reference/tmp/57868fbeb2cb5e9c9a353cfabf0f28e4/merge', pid 85954>: process started\n"
     ]
    },
    {
     "name": "stdout",
     "output_type": "stream",
     "text": [
      "Attempting to merge bfile sets ['/Users/christopherteng/github_repos/capstone_project/bin/1k_genomes/eur/g1000_eur', '/Users/christopherteng/github_repos/capstone_project/bin/1k_genomes/eas/g1000_eas']\n"
     ]
    },
    {
     "name": "stderr",
     "output_type": "stream",
     "text": [
      "INFO 02:38:02 AM sh.command:info:579 <Command '/Users/christopherteng/plink_mac_20230116/plink --make-bed --bfile /Users/christopherteng/github_repos/capstone_project/bin/1k_genomes/eur/g1000_eur --exclude /Users/christopherteng/github_repos/capstone_project/src/make_reference/tmp/57868fbeb2cb5e9c9a353cfabf0f28e4/exclude_merge_variants.txt --out /Users/christopherteng/github_repos/capstone_project/src/make_reference/tmp/57868fbeb2cb5e9c9a353cfabf0f28e4/g1000_eur.pruned', pid 86029>: process started\n"
     ]
    },
    {
     "name": "stdout",
     "output_type": "stream",
     "text": [
      "Failed to merge bfile sets ['/Users/christopherteng/github_repos/capstone_project/bin/1k_genomes/eur/g1000_eur', '/Users/christopherteng/github_repos/capstone_project/bin/1k_genomes/eas/g1000_eas']. Attempting to prune problem variants before trying again\n",
      "Pruning problem variants from /Users/christopherteng/github_repos/capstone_project/bin/1k_genomes/eur/g1000_eur\n"
     ]
    },
    {
     "name": "stderr",
     "output_type": "stream",
     "text": [
      "INFO 02:38:29 AM sh.command:info:579 <Command '/Users/christopherteng/plink_mac_20230116/plink --make-bed --bfile /Users/christopherteng/github_repos/capstone_project/bin/1k_genomes/eas/g1000_eas --exclude /Users/christopherteng/github_repos/capstone_project/src/make_reference/tmp/57868fbeb2cb5e9c9a353cfabf0f28e4/exclude_merge_variants.txt --out /Users/christopherteng/github_repos/capstone_project/src/make_reference/tmp/57868fbeb2cb5e9c9a353cfabf0f28e4/g1000_eas.pruned', pid 86039>: process started\n"
     ]
    },
    {
     "name": "stdout",
     "output_type": "stream",
     "text": [
      "Pruning problem variants from /Users/christopherteng/github_repos/capstone_project/bin/1k_genomes/eas/g1000_eas\n"
     ]
    },
    {
     "name": "stderr",
     "output_type": "stream",
     "text": [
      "INFO 02:38:55 AM sh.command:info:579 <Command '/Users/christopherteng/plink_mac_20230116/plink --make-bed --bfile /Users/christopherteng/github_repos/capstone_project/src/make_reference/tmp/57868fbeb2cb5e9c9a353cfabf0f28e4/g1000_eur.pruned --merge-list /Users/christopherteng/github_repos/capstone_project/src/make_reference/tmp/57868fbeb2cb5e9c9a353cfabf0f28e4/merge_list.txt --out /Users/christopherteng/github_repos/capstone_project/src/make_reference/tmp/57868fbeb2cb5e9c9a353cfabf0f28e4/merge', pid 86043>: process started\n"
     ]
    },
    {
     "name": "stdout",
     "output_type": "stream",
     "text": [
      "Retrying bfile set merge...\n",
      "...success\n"
     ]
    }
   ],
   "source": [
    "import commands\n",
    "import logging\n",
    "\n",
    "merged_bed, merged_bim, merged_fam = commands.merge_bfiles(bfile_sets, work_dir, keep=[\"g1000_eur\", \"g1000_eas\"])\n",
    "\n",
    "move_output(output_dir, merged_bed, merged_bim, merged_fam)\n",
    "logging.info(f\"Moving output {merged_bed} to from {work_dir} to {output_dir}\")\n",
    "logging.info(f\"Moving output {merged_bim} to from {work_dir} to {output_dir}\")\n",
    "logging.info(f\"Moving output {merged_fam} to from {work_dir} to {output_dir}\")"
   ],
   "metadata": {
    "collapsed": false,
    "pycharm": {
     "name": "#%%\n"
    }
   }
  },
  {
   "cell_type": "code",
   "execution_count": null,
   "outputs": [],
   "source": [],
   "metadata": {
    "collapsed": false,
    "pycharm": {
     "name": "#%%\n"
    }
   }
  }
 ],
 "metadata": {
  "kernelspec": {
   "display_name": "Python 3",
   "language": "python",
   "name": "python3"
  },
  "language_info": {
   "codemirror_mode": {
    "name": "ipython",
    "version": 2
   },
   "file_extension": ".py",
   "mimetype": "text/x-python",
   "name": "python",
   "nbconvert_exporter": "python",
   "pygments_lexer": "ipython2",
   "version": "2.7.6"
  }
 },
 "nbformat": 4,
 "nbformat_minor": 0
}