{
 "cells": [
  {
   "cell_type": "code",
   "execution_count": 1,
   "metadata": {
    "collapsed": true,
    "pycharm": {
     "name": "#%%\n"
    }
   },
   "outputs": [],
   "source": [
    "%load_ext autoreload\n",
    "%autoreload 2"
   ]
  },
  {
   "cell_type": "code",
   "execution_count": 2,
   "outputs": [
    {
     "name": "stdout",
     "output_type": "stream",
     "text": [
      "directory /Users/christopherteng/github_repos/capstone_project/src/magma_wrapper/output already exists\n",
      "directory /Users/christopherteng/github_repos/capstone_project/src/magma_wrapper/tmp already exists\n",
      "making directory /Users/christopherteng/github_repos/capstone_project/src/magma_wrapper/tmp/33168732b5e68992522453971c3dc02f\n",
      "Working dir: /Users/christopherteng/github_repos/capstone_project/src/magma_wrapper/tmp/33168732b5e68992522453971c3dc02f\n"
     ]
    }
   ],
   "source": [
    "from src.utils import make_work_dir, setup\n",
    "\n",
    "output_dir, tmp_dir = setup(\"output\")\n",
    "work_dir = make_work_dir(tmp_dir)\n",
    "print(f\"Working dir: {work_dir}\")"
   ],
   "metadata": {
    "collapsed": false,
    "pycharm": {
     "name": "#%%\n"
    }
   }
  },
  {
   "cell_type": "code",
   "execution_count": 86,
   "outputs": [],
   "source": [
    "from pathlib import Path\n",
    "from utils import munge_pval"
   ],
   "metadata": {
    "collapsed": false,
    "pycharm": {
     "name": "#%%\n"
    }
   }
  },
  {
   "cell_type": "code",
   "execution_count": 90,
   "outputs": [],
   "source": [
    "gwas_path = Path(\"/Users/christopherteng/github_repos/capstone_project/data/GCST90132222_buildGRCh37.tsv\")\n",
    "\n",
    "gwas = munge_pval(gwas_path, variant_id=\"variant_id\", pval=\"p_value\")\n",
    "\n",
    "munged_gwas = f\"{work_dir}/munged_gwas.tsv\"\n",
    "gwas.to_csv(munged_gwas, index=False)"
   ],
   "metadata": {
    "collapsed": false,
    "pycharm": {
     "name": "#%%\n"
    }
   }
  },
  {
   "cell_type": "code",
   "execution_count": 7,
   "outputs": [],
   "source": [
    "import os\n",
    "from pathlib import Path\n",
    "from commands import annotate_variants, gene_analysis\n",
    "\n",
    "os.environ[\"PATH\"] += \":/Users/christopherteng/github_repos/capstone_project/bin/magma\"\n",
    "\n",
    "root = \"/Users/christopherteng/github_repos/capstone_project/\"\n",
    "reference_output = f\"{root}/src/make_reference/output/merge\"\n",
    "\n",
    "annotation_output, annotation_log = annotate_variants(\n",
    "    gene_loc=Path(f\"{root}/data/gene_locations/NCBI37.3.gene.loc\"),\n",
    "    snp_loc=Path(munged_gwas),\n",
    "    output_prefix=Path(f\"{work_dir}/annotated_variants\"),\n",
    "    annotation_window=(100, 20)\n",
    ")\n",
    "\n",
    "gene_analysis_out, gene_analysis_raw, gene_analysis_log, gene_analysis_supplemental_log = gene_analysis(\n",
    "    bfile=reference_output,\n",
    "    gene_annot=annotation_output,\n",
    "    gwas=Path(munged_gwas),\n",
    "    variant_id=\"variant_id\",\n",
    "    pval=\"p_value\",\n",
    "    n=276020,\n",
    "    output_prefix=Path(f\"{work_dir}/gene_analysis\"),\n",
    ")"
   ],
   "metadata": {
    "collapsed": false,
    "pycharm": {
     "name": "#%%\n"
    }
   }
  },
  {
   "cell_type": "code",
   "execution_count": null,
   "outputs": [],
   "source": [
    "# download the data files"
   ],
   "metadata": {
    "collapsed": false,
    "pycharm": {
     "name": "#%%\n"
    }
   }
  }
 ],
 "metadata": {
  "kernelspec": {
   "display_name": "Python 3",
   "language": "python",
   "name": "python3"
  },
  "language_info": {
   "codemirror_mode": {
    "name": "ipython",
    "version": 2
   },
   "file_extension": ".py",
   "mimetype": "text/x-python",
   "name": "python",
   "nbconvert_exporter": "python",
   "pygments_lexer": "ipython2",
   "version": "2.7.6"
  }
 },
 "nbformat": 4,
 "nbformat_minor": 0
}